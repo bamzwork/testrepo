{
 "cells": [
  {
   "cell_type": "markdown",
   "metadata": {},
   "source": [
    "# Web Scraping with Google Scholar (Multiple Authors)\n",
    "\n",
    "\n",
    "* Get the latest publications of authors"
   ]
  },
  {
   "cell_type": "code",
   "execution_count": 1,
   "metadata": {
    "scrolled": true
   },
   "outputs": [
    {
     "name": "stdout",
     "output_type": "stream",
     "text": [
      "Requirement already satisfied: selenium in c:\\users\\queenie\\anaconda3\\lib\\site-packages (3.141.0)\n",
      "Requirement already satisfied: urllib3 in c:\\users\\queenie\\anaconda3\\lib\\site-packages (from selenium) (1.25.9)\n",
      "Requirement already satisfied: webdriver_manager in c:\\users\\queenie\\anaconda3\\lib\\site-packages (3.2.2)\n",
      "Requirement already satisfied: configparser in c:\\users\\queenie\\anaconda3\\lib\\site-packages (from webdriver_manager) (5.0.0)\n",
      "Requirement already satisfied: requests in c:\\users\\queenie\\anaconda3\\lib\\site-packages (from webdriver_manager) (2.24.0)\n",
      "Requirement already satisfied: crayons in c:\\users\\queenie\\anaconda3\\lib\\site-packages (from webdriver_manager) (0.4.0)\n",
      "Requirement already satisfied: idna<3,>=2.5 in c:\\users\\queenie\\anaconda3\\lib\\site-packages (from requests->webdriver_manager) (2.10)\n",
      "Requirement already satisfied: urllib3!=1.25.0,!=1.25.1,<1.26,>=1.21.1 in c:\\users\\queenie\\anaconda3\\lib\\site-packages (from requests->webdriver_manager) (1.25.9)\n",
      "Requirement already satisfied: certifi>=2017.4.17 in c:\\users\\queenie\\anaconda3\\lib\\site-packages (from requests->webdriver_manager) (2020.6.20)\n",
      "Requirement already satisfied: chardet<4,>=3.0.2 in c:\\users\\queenie\\anaconda3\\lib\\site-packages (from requests->webdriver_manager) (3.0.4)\n",
      "Requirement already satisfied: colorama in c:\\users\\queenie\\anaconda3\\lib\\site-packages (from crayons->webdriver_manager) (0.4.3)\n",
      "Requirement already satisfied: beautifulsoup4 in c:\\users\\queenie\\anaconda3\\lib\\site-packages (4.9.1)\n",
      "Requirement already satisfied: soupsieve>1.2 in c:\\users\\queenie\\anaconda3\\lib\\site-packages (from beautifulsoup4) (2.0.1)\n"
     ]
    }
   ],
   "source": [
    "!pip install selenium\n",
    "!pip install webdriver_manager\n",
    "!pip install beautifulsoup4"
   ]
  },
  {
   "cell_type": "markdown",
   "metadata": {},
   "source": [
    "### Check if the installation is working"
   ]
  },
  {
   "cell_type": "code",
   "execution_count": 2,
   "metadata": {},
   "outputs": [],
   "source": [
    "from selenium import webdriver\n",
    "from selenium.webdriver.common.by import By\n",
    "from selenium.webdriver.common.keys import Keys\n",
    "from selenium.webdriver.support import expected_conditions as EC\n",
    "from selenium.webdriver.support.wait import WebDriverWait\n",
    "from webdriver_manager.chrome import ChromeDriverManager\n",
    "\n",
    "import selenium\n",
    "import webdriver_manager\n",
    "import csv\n",
    "import time\n",
    "from bs4 import BeautifulSoup\n",
    "import requests"
   ]
  },
  {
   "cell_type": "code",
   "execution_count": null,
   "metadata": {},
   "outputs": [],
   "source": [
    "#Getting website link"
   ]
  },
  {
   "cell_type": "code",
   "execution_count": null,
   "metadata": {
    "scrolled": true
   },
   "outputs": [],
   "source": [
    "browser = webdriver.Chrome(ChromeDriverManager().install())\n",
    "\n",
    "result = []\n",
    "\n",
    "def coll():\n",
    "    items = soup.find_all('li', {'class':\"result-section__list-item\"})\n",
    "\n",
    "    for item in items:\n",
    "        t = item.find('a')\n",
    "        title = t.text\n",
    "        link = t.attrs['href']\n",
    "        result.append((title, link))\n",
    "        \n",
    "\n",
    "for i in range(0,20):\n",
    "    URL = f'https://www.channelnewsasia.com/action/news/8396414/search?q=ncid&page={i}'\n",
    "    browser.get(URL) \n",
    "    time.sleep(3)\n",
    "    cookies = browser.get_cookies()\n",
    "    html = browser.page_source\n",
    "    soup = BeautifulSoup(html)\n",
    "    i = i + 1\n",
    "    coll()\n",
    "\n",
    "\n",
    "with open('head2.csv', 'w', newline = '', encoding = 'utf-8') as f:\n",
    "    writer = csv.writer(f)\n",
    "    writer.writerows(result)\n",
    "\n"
   ]
  },
  {
   "cell_type": "code",
   "execution_count": null,
   "metadata": {
    "scrolled": true
   },
   "outputs": [],
   "source": [
    "coll()\n",
    "result"
   ]
  },
  {
   "cell_type": "code",
   "execution_count": null,
   "metadata": {},
   "outputs": [],
   "source": [
    "result = []\n",
    "browser = webdriver.Chrome(ChromeDriverManager().install())\n",
    "URL = 'https://www.zaobao.com.sg/search/site/%E6%96%B0%E5%8A%A0%E5%9D%A1%E5%9B%BD%E5%AE%B6%E4%BC%A0%E6%9F%93%E7%97%85%E4%B8%AD%E5%BF%83?page=1'\n",
    "browser.get(URL) \n",
    "\n",
    "time.sleep(3)\n",
    "cookies = browser.get_cookies()\n",
    "html = browser.page_source\n",
    "soup = BeautifulSoup(html)\n",
    "\n",
    "\n",
    "result = []\n",
    "def coll():\n",
    "    items = soup.find_all('div', {'class':\"search-result row\"})\n",
    "\n",
    "    for item in items:\n",
    "        t = item.find('a')\n",
    "        title = t.text\n",
    "        link = t.attrs['href']\n",
    "        result.append((title, link))\n",
    "\n",
    "coll()\n",
    "with open('head2.csv', 'w', newline = '', encoding = 'utf-8') as f:\n",
    "    writer = csv.writer(f)\n",
    "    writer.writerows(result)\n",
    "\n",
    "      \n"
   ]
  },
  {
   "cell_type": "code",
   "execution_count": 3,
   "metadata": {},
   "outputs": [],
   "source": [
    "with open('head2.csv', encoding = 'utf-8') as f:\n",
    "    reader = csv.reader(f)\n",
    "    citetion_list = list(reader)\n",
    "    citetion_list  = [name for sublist in citetion_list for name in sublist]"
   ]
  },
  {
   "cell_type": "code",
   "execution_count": 4,
   "metadata": {
    "scrolled": true
   },
   "outputs": [
    {
     "data": {
      "text/plain": [
       "90"
      ]
     },
     "execution_count": 4,
     "metadata": {},
     "output_type": "execute_result"
    }
   ],
   "source": [
    "len(citetion_list)"
   ]
  },
  {
   "cell_type": "code",
   "execution_count": null,
   "metadata": {},
   "outputs": [],
   "source": [
    "citetion_list  = citetion_list[:2]\n",
    "citetion_list"
   ]
  },
  {
   "cell_type": "code",
   "execution_count": null,
   "metadata": {
    "scrolled": true
   },
   "outputs": [],
   "source": [
    "total = []\n",
    "\n",
    "browser = webdriver.Chrome(ChromeDriverManager().install())\n",
    "time.sleep(3)\n",
    "\n",
    "URL = 'https://www.channelnewsasia.com/news/singapore/ncid-doctors-covid-19-coronavirus-treatment-singapore-13239020'\n",
    "browser.get(URL) \n",
    "\n",
    "time.sleep(3)\n",
    "cookies = browser.get_cookies()\n",
    "html = browser.page_source\n",
    "soup = BeautifulSoup(html)\n",
    "total.append(soup)\n",
    "\n",
    "title = [soup.title.text]\n",
    "\n",
    "published_date = soup.find_all('time', {'class':\"article__details-item\"})\n",
    "published_date = [x.text for x in published_date]\n",
    "published_date\n",
    "\n"
   ]
  },
  {
   "cell_type": "code",
   "execution_count": null,
   "metadata": {},
   "outputs": [],
   "source": [
    "description = soup.find_all('div', {'class':\"c-rte--article\"})\n",
    "description = [x.text.strip().replace('\\n', '')  for x in description]\n",
    "description\n",
    "\n",
    "description\n",
    "\n",
    "title\n",
    "\n",
    "result = [title,published_date,description]\n",
    "\n",
    "result"
   ]
  },
  {
   "cell_type": "code",
   "execution_count": 6,
   "metadata": {
    "scrolled": true
   },
   "outputs": [
    {
     "name": "stderr",
     "output_type": "stream",
     "text": [
      "[WDM] - Current google-chrome version is 86.0.4240\n",
      "[WDM] - Get LATEST driver version for 86.0.4240\n",
      "[WDM] - Driver [C:\\Users\\Queenie\\.wdm\\drivers\\chromedriver\\win32\\86.0.4240.22\\chromedriver.exe] found in cache\n"
     ]
    },
    {
     "name": "stdout",
     "output_type": "stream",
     "text": [
      " \n",
      "done\n"
     ]
    }
   ],
   "source": [
    "total = []\n",
    "\n",
    "browser = webdriver.Chrome(ChromeDriverManager().install())\n",
    "time.sleep(3)\n",
    "\n",
    "for citetion in citetion_list:\n",
    "    URL = citetion\n",
    "    browser.get(URL) \n",
    "\n",
    "    time.sleep(3)\n",
    "    cookies = browser.get_cookies()\n",
    "    html = browser.page_source\n",
    "    soup = BeautifulSoup(html)\n",
    "\n",
    "    title = [soup.title.text]\n",
    "\n",
    "    published_date = soup.find_all('time', {'class':\"article__details-item\"})\n",
    "    published_date = [x.text for x in published_date]\n",
    "    published_date\n",
    "\n",
    "    description = soup.find_all('div', {'class':\"c-rte--article\"})\n",
    "    description = [x.text.strip().replace('\\n', '')  for x in description]\n",
    "    description\n",
    "\n",
    "    description\n",
    "\n",
    "    result = [title,published_date,description]\n",
    "    total.append(result)\n",
    "    \n",
    "header = ['title', 'date', 'description']\n",
    "\n",
    "with open('cna.csv', 'w', newline = '', encoding = 'utf-8') as f:\n",
    "            writer = csv.writer(f)\n",
    "            writer.writerow(header)\n",
    "            writer.writerows(total)\n",
    "            \n",
    "print('done')"
   ]
  },
  {
   "cell_type": "code",
   "execution_count": null,
   "metadata": {},
   "outputs": [],
   "source": []
  }
 ],
 "metadata": {
  "kernelspec": {
   "display_name": "Python 3",
   "language": "python",
   "name": "python3"
  },
  "language_info": {
   "codemirror_mode": {
    "name": "ipython",
    "version": 3
   },
   "file_extension": ".py",
   "mimetype": "text/x-python",
   "name": "python",
   "nbconvert_exporter": "python",
   "pygments_lexer": "ipython3",
   "version": "3.8.3"
  }
 },
 "nbformat": 4,
 "nbformat_minor": 4
}
